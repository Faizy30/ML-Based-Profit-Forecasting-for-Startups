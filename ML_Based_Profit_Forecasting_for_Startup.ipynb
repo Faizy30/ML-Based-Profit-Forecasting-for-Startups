{
  "nbformat": 4,
  "nbformat_minor": 0,
  "metadata": {
    "colab": {
      "provenance": [],
      "authorship_tag": "ABX9TyM0uU2qLtrmT0CJ/JIC1BoS",
      "include_colab_link": true
    },
    "kernelspec": {
      "name": "python3",
      "display_name": "Python 3"
    },
    "language_info": {
      "name": "python"
    }
  },
  "cells": [
    {
      "cell_type": "markdown",
      "metadata": {
        "id": "view-in-github",
        "colab_type": "text"
      },
      "source": [
        "<a href=\"https://colab.research.google.com/github/Faizy30/ML-Based-Profit-Forecasting-for-Startups/blob/main/ML_Based_Profit_Forecasting_for_Startup.ipynb\" target=\"_parent\"><img src=\"https://colab.research.google.com/assets/colab-badge.svg\" alt=\"Open In Colab\"/></a>"
      ]
    },
    {
      "cell_type": "code",
      "execution_count": null,
      "metadata": {
        "id": "Oq8_0E8uo248"
      },
      "outputs": [],
      "source": [
        "import pandas as pd"
      ]
    },
    {
      "cell_type": "code",
      "source": [
        "df = pd.read_csv(\"/content/50_Startups.csv\")\n",
        "df"
      ],
      "metadata": {
        "id": "-7D3vpacrAOQ",
        "collapsed": true
      },
      "execution_count": null,
      "outputs": []
    },
    {
      "cell_type": "code",
      "source": [
        "df= df.drop(['State'],axis=1)\n",
        "df"
      ],
      "metadata": {
        "id": "qS_oEqEGkUGg",
        "collapsed": true
      },
      "execution_count": null,
      "outputs": []
    },
    {
      "cell_type": "code",
      "source": [
        "Startups_numeric = df.select_dtypes(include=['int64','float64'])\n",
        "Startups_numeric"
      ],
      "metadata": {
        "id": "SA4iBwkUt2Bv",
        "collapsed": true
      },
      "execution_count": null,
      "outputs": []
    },
    {
      "cell_type": "code",
      "source": [
        "x = Startups_numeric.iloc[:,0:4].values\n",
        "\n",
        "y = Startups_numeric.iloc[:,-1].values"
      ],
      "metadata": {
        "id": "lbPlzIket2FQ"
      },
      "execution_count": null,
      "outputs": []
    },
    {
      "cell_type": "code",
      "source": [
        "from sklearn.model_selection import train_test_split\n",
        "x_train,x_test,y_train,y_test = train_test_split(x,y,random_state=0)"
      ],
      "metadata": {
        "id": "_J9fRHoTt2Ia"
      },
      "execution_count": null,
      "outputs": []
    },
    {
      "cell_type": "code",
      "source": [
        "print(x_train.shape)\n",
        "print(x_test.shape)\n",
        "print(y_train.shape)\n",
        "print(y_test.shape)"
      ],
      "metadata": {
        "id": "ZKJyyFjZt2L1"
      },
      "execution_count": null,
      "outputs": []
    },
    {
      "cell_type": "code",
      "source": [
        "0.75*49"
      ],
      "metadata": {
        "id": "AMwDWFpRtC_4"
      },
      "execution_count": null,
      "outputs": []
    },
    {
      "cell_type": "code",
      "source": [
        "0.25*49"
      ],
      "metadata": {
        "id": "Pif3rqf5tDDD",
        "collapsed": true
      },
      "execution_count": null,
      "outputs": []
    },
    {
      "cell_type": "code",
      "source": [
        "from sklearn.linear_model import LinearRegression\n",
        "model = LinearRegression()"
      ],
      "metadata": {
        "id": "aXb7BOhZSlMU"
      },
      "execution_count": null,
      "outputs": []
    },
    {
      "cell_type": "code",
      "source": [
        "model.fit(x_train,y_train)"
      ],
      "metadata": {
        "id": "L_SF6sGOSlRG",
        "collapsed": true
      },
      "execution_count": null,
      "outputs": []
    },
    {
      "cell_type": "code",
      "source": [
        "y_pred = model.predict(x_test)\n",
        "y_pred"
      ],
      "metadata": {
        "id": "MkChGRW8SlWo",
        "collapsed": true
      },
      "execution_count": null,
      "outputs": []
    },
    {
      "cell_type": "code",
      "source": [
        "y_test"
      ],
      "metadata": {
        "id": "tR2ETHM2SlZn",
        "collapsed": true
      },
      "execution_count": null,
      "outputs": []
    },
    {
      "cell_type": "code",
      "source": [
        "len(y_pred)"
      ],
      "metadata": {
        "id": "KQ9zaOnQVBmH"
      },
      "execution_count": null,
      "outputs": []
    },
    {
      "cell_type": "code",
      "source": [
        "import matplotlib.pyplot as plt\n",
        "plt.scatter(y_pred,y_test)\n",
        "plt.plot(y_pred,y_test)"
      ],
      "metadata": {
        "id": "egNp-O_6VBpY"
      },
      "execution_count": null,
      "outputs": []
    },
    {
      "cell_type": "code",
      "source": [
        "#pandas plotting\n",
        "df1 = pd.DataFrame({'Actual': y_test,'predicted' : y_pred })\n",
        "df1"
      ],
      "metadata": {
        "id": "9kvxBrAwVBr-"
      },
      "execution_count": null,
      "outputs": []
    },
    {
      "cell_type": "code",
      "source": [
        "df1.plot(figsize=(20,8))"
      ],
      "metadata": {
        "id": "AfIS6PjzVBuq"
      },
      "execution_count": null,
      "outputs": []
    },
    {
      "cell_type": "code",
      "source": [
        "df1.plot(figsize=(20,8),kind = 'bar')"
      ],
      "metadata": {
        "id": "SmJhtelKVBxZ"
      },
      "execution_count": null,
      "outputs": []
    },
    {
      "cell_type": "code",
      "source": [
        "from sklearn.metrics import r2_score\n",
        "r2_score(y_test,y_pred)"
      ],
      "metadata": {
        "id": "_nLaO7RDYJHP"
      },
      "execution_count": null,
      "outputs": []
    },
    {
      "cell_type": "code",
      "source": [
        "Startups_numeric.head()"
      ],
      "metadata": {
        "id": "UC4WWq4QYJNN"
      },
      "execution_count": null,
      "outputs": []
    },
    {
      "cell_type": "code",
      "source": [
        "model.predict([[153441.51,101145.55,407934.54,191050.39]])"
      ],
      "metadata": {
        "id": "Q8ENEHjidGvI"
      },
      "execution_count": null,
      "outputs": []
    },
    {
      "cell_type": "code",
      "source": [
        "import pickle\n",
        "pickle.dump(model,open('Startups.pkl','wb'))"
      ],
      "metadata": {
        "id": "_10TJsZYdGxt"
      },
      "execution_count": null,
      "outputs": []
    },
    {
      "cell_type": "code",
      "source": [
        "import pickle\n",
        "reload_model = pickle.load(open('Startups.pkl','rb'))"
      ],
      "metadata": {
        "id": "WX516FRVdG4Y"
      },
      "execution_count": null,
      "outputs": []
    },
    {
      "cell_type": "code",
      "source": [
        "reload_model.predict([[144392.41,115671.85,386199.62,182901.98]])"
      ],
      "metadata": {
        "id": "aS7_KFEWVB0J"
      },
      "execution_count": null,
      "outputs": []
    },
    {
      "cell_type": "code",
      "source": [
        "import seaborn as sns\n",
        "data = sns.load_dataset(\"iris\")\n",
        "sns.lineplot(x=\"Actual\", y=\"predicted\", data=df1)"
      ],
      "metadata": {
        "id": "bpnrs_OhfYjX"
      },
      "execution_count": null,
      "outputs": []
    },
    {
      "cell_type": "code",
      "source": [
        "import seaborn\n",
        "seaborn.regplot(x='Actual',y='predicted',data = df1)"
      ],
      "metadata": {
        "id": "i5NpKiKCd56-"
      },
      "execution_count": null,
      "outputs": []
    }
  ]
}